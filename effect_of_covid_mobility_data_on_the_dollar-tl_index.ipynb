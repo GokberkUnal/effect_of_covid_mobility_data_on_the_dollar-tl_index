{
 "cells": [
  {
   "cell_type": "markdown",
   "id": "9598c36b",
   "metadata": {},
   "source": [
    "Data Mining-Bil 366 Final Ödevi\n",
    "    \n",
    "Tevfik Gürhan Kuraş-19120205062\n",
    "Yusuf Serdar Yazıcıoğlu-19120205022\n",
    "Orhan Gökberk Ünal-19120205041\n",
    "\n",
    "\n",
    "Konu: Türkiye'de 2020-2021 Covid-19 döneminde market ve eczaneye gidişlerdeki değişimin dolar kuru üzerindeki etkisi\n",
    "\n",
    "\n",
    "Giriş:\n",
    "\n",
    "Aşağıda 2020-2021 Google'ın sağladığı Türkiye Mobility datası bulunmaktadır."
   ]
  },
  {
   "cell_type": "code",
   "execution_count": 1,
   "id": "dddc98ae",
   "metadata": {
    "scrolled": true
   },
   "outputs": [
    {
     "name": "stdout",
     "output_type": "stream",
     "text": [
      "<class 'pandas.core.frame.DataFrame'>\n",
      "RangeIndex: 167657 entries, 0 to 167656\n",
      "Data columns (total 15 columns):\n",
      " #   Column                                              Non-Null Count   Dtype  \n",
      "---  ------                                              --------------   -----  \n",
      " 0   country_region_code                                 167657 non-null  object \n",
      " 1   country_region                                      167657 non-null  object \n",
      " 2   sub_region_1                                        167336 non-null  object \n",
      " 3   sub_region_2                                        141692 non-null  object \n",
      " 4   metro_area                                          0 non-null       float64\n",
      " 5   iso_3166_2_code                                     25644 non-null   object \n",
      " 6   census_fips_code                                    0 non-null       float64\n",
      " 7   place_id                                            167657 non-null  object \n",
      " 8   date                                                167657 non-null  object \n",
      " 9   retail_and_recreation_percent_change_from_baseline  101865 non-null  float64\n",
      " 10  grocery_and_pharmacy_percent_change_from_baseline   106104 non-null  float64\n",
      " 11  parks_percent_change_from_baseline                  95186 non-null   float64\n",
      " 12  transit_stations_percent_change_from_baseline       87723 non-null   float64\n",
      " 13  workplaces_percent_change_from_baseline             158870 non-null  float64\n",
      " 14  residential_percent_change_from_baseline            98651 non-null   float64\n",
      "dtypes: float64(8), object(7)\n",
      "memory usage: 19.2+ MB\n",
      "<class 'pandas.core.frame.DataFrame'>\n",
      "RangeIndex: 321 entries, 0 to 320\n",
      "Data columns (total 15 columns):\n",
      " #   Column                                              Non-Null Count  Dtype  \n",
      "---  ------                                              --------------  -----  \n",
      " 0   country_region_code                                 321 non-null    object \n",
      " 1   country_region                                      321 non-null    object \n",
      " 2   sub_region_1                                        0 non-null      float64\n",
      " 3   sub_region_2                                        0 non-null      float64\n",
      " 4   metro_area                                          0 non-null      float64\n",
      " 5   iso_3166_2_code                                     0 non-null      float64\n",
      " 6   census_fips_code                                    0 non-null      float64\n",
      " 7   place_id                                            321 non-null    object \n",
      " 8   date                                                321 non-null    object \n",
      " 9   retail_and_recreation_percent_change_from_baseline  321 non-null    int64  \n",
      " 10  grocery_and_pharmacy_percent_change_from_baseline   321 non-null    int64  \n",
      " 11  parks_percent_change_from_baseline                  321 non-null    int64  \n",
      " 12  transit_stations_percent_change_from_baseline       321 non-null    int64  \n",
      " 13  workplaces_percent_change_from_baseline             321 non-null    int64  \n",
      " 14  residential_percent_change_from_baseline            321 non-null    int64  \n",
      "dtypes: float64(5), int64(6), object(4)\n",
      "memory usage: 37.7+ KB\n",
      "<class 'pandas.core.frame.DataFrame'>\n",
      "RangeIndex: 158430 entries, 0 to 158429\n",
      "Data columns (total 15 columns):\n",
      " #   Column                                              Non-Null Count   Dtype  \n",
      "---  ------                                              --------------   -----  \n",
      " 0   country_region_code                                 158430 non-null  object \n",
      " 1   country_region                                      158430 non-null  object \n",
      " 2   sub_region_1                                        158152 non-null  object \n",
      " 3   sub_region_2                                        135654 non-null  object \n",
      " 4   metro_area                                          0 non-null       float64\n",
      " 5   iso_3166_2_code                                     22498 non-null   object \n",
      " 6   census_fips_code                                    0 non-null       float64\n",
      " 7   place_id                                            158430 non-null  object \n",
      " 8   date                                                158430 non-null  object \n",
      " 9   retail_and_recreation_percent_change_from_baseline  91170 non-null   float64\n",
      " 10  grocery_and_pharmacy_percent_change_from_baseline   92489 non-null   float64\n",
      " 11  parks_percent_change_from_baseline                  87099 non-null   float64\n",
      " 12  transit_stations_percent_change_from_baseline       78809 non-null   float64\n",
      " 13  workplaces_percent_change_from_baseline             154672 non-null  float64\n",
      " 14  residential_percent_change_from_baseline            98407 non-null   float64\n",
      "dtypes: float64(8), object(7)\n",
      "memory usage: 18.1+ MB\n"
     ]
    }
   ],
   "source": [
    "import pandas as pd\n",
    "\n",
    "\n",
    "#https://www.google.com/covid19/mobility/\n",
    "url = 'https://drive.google.com/file/d/18gyHbx6rfogq3yQ-GR9COjcGgyYlCnBZ/view?usp=sharing'\n",
    "url2020 = 'https://drive.google.com/uc?id=' + url.split('/')[-2]\n",
    "url = 'https://drive.google.com/file/d/1Eg8Lffm49bc-bGFkv_4ddrQw8U8WE6P4/view?usp=sharing'\n",
    "url2021 = 'https://drive.google.com/uc?id=' + url.split('/')[-2]\n",
    "url = 'https://drive.google.com/file/d/1jowJRBc60-SioTWvEgNUv8FxEF8juOk8/view?usp=sharing'\n",
    "generalurl2020 = 'https://drive.google.com/uc?id=' + url.split('/')[-2]\n",
    "\n",
    "df20 = pd.read_csv(url2020)\n",
    "df20.info()\n",
    "\n",
    "general_df20 = pd.read_csv(generalurl2020)\n",
    "general_df20.info()\n",
    "\n",
    "df21 = pd.read_csv(url2021)\n",
    "df21.info()\n",
    "\n"
   ]
  },
  {
   "cell_type": "markdown",
   "id": "ee3e022e",
   "metadata": {},
   "source": [
    "Aşağıda 2020-2021  yılındaki mobility datasını aylara göre grupladık ve datanın ortalamasını aldık."
   ]
  },
  {
   "cell_type": "code",
   "execution_count": 2,
   "id": "120e38a1",
   "metadata": {},
   "outputs": [],
   "source": [
    "df20.index = pd.to_datetime(df20['date'],format='%Y-%m-%d')\n",
    "mean_df20=df20.groupby([df20.index.month]).mean()\n",
    "df21.index = pd.to_datetime(df21['date'],format='%Y-%m-%d')\n",
    "mean_df21=df21.groupby([df21.index.month]).mean()"
   ]
  },
  {
   "cell_type": "markdown",
   "id": "f394057e",
   "metadata": {},
   "source": [
    "Aşağıda TÜİK'in sunduğu Türkiye'nin nüfus bilgileri bulunmaktadır. "
   ]
  },
  {
   "cell_type": "code",
   "execution_count": null,
   "id": "72519948",
   "metadata": {},
   "outputs": [],
   "source": [
    "#https://data.tuik.gov.tr/Bulten/Index?p=Adrese-Dayali-Nufus-Kayit-Sistemi-Sonuclari-2020-37210\n",
    "url = 'https://drive.google.com/file/d/1UKaXY9ynV2v4kvVGnQpF7s0tqgwhYup1/view?usp=sharing'\n",
    "tr_population_data = 'https://drive.google.com/uc?id=' + url.split('/')[-2]"
   ]
  },
  {
   "cell_type": "markdown",
   "id": "8e2b038a",
   "metadata": {},
   "source": [
    "Aşağıda 2020-2021 yıllarındaki Investing.com tarafından sağlanan Dolar/TL kuru datası bulunmaktadır."
   ]
  },
  {
   "cell_type": "code",
   "execution_count": 3,
   "id": "668d31fe",
   "metadata": {},
   "outputs": [
    {
     "name": "stdout",
     "output_type": "stream",
     "text": [
      "<class 'pandas.core.frame.DataFrame'>\n",
      "RangeIndex: 262 entries, 0 to 261\n",
      "Data columns (total 6 columns):\n",
      " #   Column  Non-Null Count  Dtype  \n",
      "---  ------  --------------  -----  \n",
      " 0   Tarih   262 non-null    object \n",
      " 1   Şimdi   262 non-null    float64\n",
      " 2   Açılış  262 non-null    float64\n",
      " 3   Yüksek  262 non-null    float64\n",
      " 4   Düşük   262 non-null    float64\n",
      " 5   Fark %  262 non-null    object \n",
      "dtypes: float64(4), object(2)\n",
      "memory usage: 12.4+ KB\n",
      "<class 'pandas.core.frame.DataFrame'>\n",
      "RangeIndex: 21 entries, 0 to 20\n",
      "Data columns (total 6 columns):\n",
      " #   Column  Non-Null Count  Dtype  \n",
      "---  ------  --------------  -----  \n",
      " 0   Tarih   21 non-null     object \n",
      " 1   Şimdi   21 non-null     float64\n",
      " 2   Açılış  21 non-null     float64\n",
      " 3   Yüksek  21 non-null     float64\n",
      " 4   Düşük   21 non-null     float64\n",
      " 5   Fark %  21 non-null     object \n",
      "dtypes: float64(4), object(2)\n",
      "memory usage: 1.1+ KB\n"
     ]
    }
   ],
   "source": [
    "import pandas as pd\n",
    "\n",
    "\n",
    "#https://www.investing.com\n",
    "index_url = 'https://drive.google.com/file/d/1bxAQq8-KJqNFO_0aFticGpgPlzycVFe-/view?usp=sharing'\n",
    "index_url2020 = 'https://drive.google.com/uc?id=' + index_url.split('/')[-2]\n",
    "index_url = 'https://drive.google.com/file/d/1KAyvrAPKOsNbyJWxSMCmikQuJKdGyp_K/view?usp=sharing'\n",
    "index_url2021 = 'https://drive.google.com/uc?id=' + index_url.split('/')[-2]\n",
    "\n",
    "\n",
    "index_df20 = pd.read_csv(index_url2020, decimal=',')\n",
    "index_df20.info()\n",
    "\n",
    "index_df21 = pd.read_csv(index_url2021, decimal=',')\n",
    "index_df21.info()\n",
    "                                                                                                                    \n"
   ]
  },
  {
   "cell_type": "markdown",
   "id": "4edaef33",
   "metadata": {},
   "source": [
    "Aşağıda 2020 yılı mobility datasındaki market ve eczaneye gidişlerin aya göre değişiminin grafiği bulunmaktadır."
   ]
  },
  {
   "cell_type": "code",
   "execution_count": 4,
   "id": "cbeea9e2",
   "metadata": {},
   "outputs": [
    {
     "data": {
      "text/plain": [
       "<matplotlib.lines.Line2D at 0x19c2747ea60>"
      ]
     },
     "execution_count": 4,
     "metadata": {},
     "output_type": "execute_result"
    },
    {
     "data": {
      "image/png": "[encoded data removed]",
      "text/plain": [
       "<Figure size 648x648 with 1 Axes>"
      ]
     },
     "metadata": {
      "needs_background": "light"
     },
     "output_type": "display_data"
    }
   ],
   "source": [
    "import pandas as pd\n",
    "import matplotlib.pyplot as plt\n",
    "import numpy as np\n",
    "from matplotlib.pyplot import figure\n",
    "\n",
    "\n",
    "col_name = \n",
    "\n",
    "plt.xticks( np.arange(1, 12 + 1) ) # 12 ay olarak göstermek için\n",
    "\n",
    "mean_df20[col_name].plot( figsize=(9, 9) \\\n",
    "                         , y=df20[col_name] \\\n",
    "                         , legend=True \\\n",
    "                         , label = \"2020-\" + col_name)\n",
    "\n",
    "mean_df21[col_name].plot(figsize=(9, 9) \\\n",
    "                         , y=df21[col_name] \\\n",
    "                         , legend=True \\\n",
    "                         , label = \"2021-\" + col_name)\n",
    "\n",
    "plt.axhline(0, color='blue')"
   ]
  },
  {
   "cell_type": "markdown",
   "id": "4944c8eb",
   "metadata": {},
   "source": [
    "Correlation testi"
   ]
  },
  {
   "cell_type": "code",
   "execution_count": 42,
   "id": "f517a933",
   "metadata": {
    "scrolled": true
   },
   "outputs": [
    {
     "name": "stdout",
     "output_type": "stream",
     "text": [
      "2020-12-31    7.4320\n",
      "2020-12-30    7.3774\n",
      "2020-12-29    7.3815\n",
      "2020-12-28    7.4416\n",
      "2020-12-25    7.5470\n",
      "               ...  \n",
      "2020-02-21    6.0924\n",
      "2020-02-20    6.0964\n",
      "2020-02-19    6.0795\n",
      "2020-02-18    6.0602\n",
      "2020-02-17    6.0417\n",
      "Length: 229, dtype: float64\n",
      "\n",
      "2020-12-31    54\n",
      "2020-12-30    29\n",
      "2020-12-29    21\n",
      "2020-12-28    20\n",
      "2020-12-25    29\n",
      "              ..\n",
      "2020-02-21     0\n",
      "2020-02-20     2\n",
      "2020-02-19     3\n",
      "2020-02-18     6\n",
      "2020-02-17     5\n",
      "Length: 229, dtype: int64\n",
      "\n",
      "correlation between: \n",
      "0.24035808152815452\n"
     ]
    },
    {
     "data": {
      "image/png": "[encoded data removed]",
      "text/plain": [
       "<Figure size 432x288 with 1 Axes>"
      ]
     },
     "metadata": {
      "needs_background": "light"
     },
     "output_type": "display_data"
    }
   ],
   "source": [
    "import matplotlib.pyplot as plt\n",
    "import numpy as np\n",
    "\n",
    "#index_df20[\"Şimdi\"]\n",
    "#mean_df20[col_name]\n",
    "#mean_df20[col_name].corr()\n",
    "\n",
    "copy_index20 = pd.Series(data=index_df20[\"Şimdi\"].array, index=pd.to_datetime(index_df20[\"Tarih\"],format='%d.%m.%Y')) \n",
    "\n",
    "#copy_index20.index = np.arange(1, 13)\n",
    "\n",
    "#copy_index20.drop(1, inplace=True)\n",
    " \n",
    "grouped20_series = pd.Series(data=general_df20[col_name].array, index=pd.to_datetime(general_df20[\"date\"],format='%Y-%m-%d'))\n",
    "\n",
    "intersection_index = copy_index20.index.intersection(grouped20_series.index)\n",
    "\n",
    "grouped20_series = grouped20_series.loc[intersection_index]\n",
    "\n",
    "copy_index20 = copy_index20.loc[intersection_index]\n",
    "\n",
    "#grouped20_series.index=copy_index20.index\n",
    "\n",
    "\n",
    "print(copy_index20)\n",
    "\n",
    "print()\n",
    "\n",
    "print(grouped20_series)\n",
    "   \n",
    "\n",
    "print(\"\\ncorrelation between: \")\n",
    "print(copy_index20.corr(grouped20_series))\n",
    "\n",
    "plt.scatter(grouped20_series, copy_index20)\n",
    "\n",
    "plt.xlabel(\"grocery_and_pharmacy_percent_change_from_baseline\")\n",
    "plt.ylabel(\"dollar\")\n",
    "\n",
    "plt.show()"
   ]
  },
  {
   "cell_type": "markdown",
   "id": "130c97d7",
   "metadata": {},
   "source": []
  }
 ],
 "metadata": {
  "kernelspec": {
   "display_name": "Python 3",
   "language": "python",
   "name": "python3"
  },
  "language_info": {
   "codemirror_mode": {
    "name": "ipython",
    "version": 3
   },
   "file_extension": ".py",
   "mimetype": "text/x-python",
   "name": "python",
   "nbconvert_exporter": "python",
   "pygments_lexer": "ipython3",
   "version": "3.8.8"
  }
 },
 "nbformat": 4,
 "nbformat_minor": 5
}
