{
 "cells": [
  {
   "cell_type": "markdown",
   "id": "9598c36b",
   "metadata": {},
   "source": [
    "Data Mining-Bil 366 Final Ödevi\n",
    "    \n",
    "Tevfik Gürhan Kuraş-19120205062\n",
    "Yusuf Serdar Yazıcıoğlu-19120205022\n",
    "Orhan Gökberk Ünal-19120205041\n",
    "\n",
    "\n",
    "Konu: Türkiye'de 2020-2021 Covid-19 döneminde market ve eczaneye gidişlerdeki değişimin dolar kuru üzerindeki etkisi\n",
    "\n",
    "\n",
    "Giriş:\n",
    "\n",
    "Aşağıda 2020-2021 Google'ın sağladığı Türkiye Mobility datası bulunmaktadır."
   ]
  },
  {
   "cell_type": "code",
   "execution_count": 1,
   "id": "dddc98ae",
   "metadata": {
    "scrolled": true
   },
   "outputs": [
    {
     "name": "stdout",
     "output_type": "stream",
     "text": [
      "<class 'pandas.core.frame.DataFrame'>\n",
      "RangeIndex: 167657 entries, 0 to 167656\n",
      "Data columns (total 15 columns):\n",
      " #   Column                                              Non-Null Count   Dtype  \n",
      "---  ------                                              --------------   -----  \n",
      " 0   country_region_code                                 167657 non-null  object \n",
      " 1   country_region                                      167657 non-null  object \n",
      " 2   sub_region_1                                        167336 non-null  object \n",
      " 3   sub_region_2                                        141692 non-null  object \n",
      " 4   metro_area                                          0 non-null       float64\n",
      " 5   iso_3166_2_code                                     25644 non-null   object \n",
      " 6   census_fips_code                                    0 non-null       float64\n",
      " 7   place_id                                            167657 non-null  object \n",
      " 8   date                                                167657 non-null  object \n",
      " 9   retail_and_recreation_percent_change_from_baseline  101865 non-null  float64\n",
      " 10  grocery_and_pharmacy_percent_change_from_baseline   106104 non-null  float64\n",
      " 11  parks_percent_change_from_baseline                  95186 non-null   float64\n",
      " 12  transit_stations_percent_change_from_baseline       87723 non-null   float64\n",
      " 13  workplaces_percent_change_from_baseline             158870 non-null  float64\n",
      " 14  residential_percent_change_from_baseline            98651 non-null   float64\n",
      "dtypes: float64(8), object(7)\n",
      "memory usage: 19.2+ MB\n",
      "<class 'pandas.core.frame.DataFrame'>\n",
      "RangeIndex: 158430 entries, 0 to 158429\n",
      "Data columns (total 15 columns):\n",
      " #   Column                                              Non-Null Count   Dtype  \n",
      "---  ------                                              --------------   -----  \n",
      " 0   country_region_code                                 158430 non-null  object \n",
      " 1   country_region                                      158430 non-null  object \n",
      " 2   sub_region_1                                        158152 non-null  object \n",
      " 3   sub_region_2                                        135654 non-null  object \n",
      " 4   metro_area                                          0 non-null       float64\n",
      " 5   iso_3166_2_code                                     22498 non-null   object \n",
      " 6   census_fips_code                                    0 non-null       float64\n",
      " 7   place_id                                            158430 non-null  object \n",
      " 8   date                                                158430 non-null  object \n",
      " 9   retail_and_recreation_percent_change_from_baseline  91170 non-null   float64\n",
      " 10  grocery_and_pharmacy_percent_change_from_baseline   92489 non-null   float64\n",
      " 11  parks_percent_change_from_baseline                  87099 non-null   float64\n",
      " 12  transit_stations_percent_change_from_baseline       78809 non-null   float64\n",
      " 13  workplaces_percent_change_from_baseline             154672 non-null  float64\n",
      " 14  residential_percent_change_from_baseline            98407 non-null   float64\n",
      "dtypes: float64(8), object(7)\n",
      "memory usage: 18.1+ MB\n"
     ]
    }
   ],
   "source": [
    "import pandas as pd\n",
    "\n",
    "\n",
    "#https://www.google.com/covid19/mobility/\n",
    "url = 'https://drive.google.com/file/d/18gyHbx6rfogq3yQ-GR9COjcGgyYlCnBZ/view?usp=sharing'\n",
    "url2020 = 'https://drive.google.com/uc?id=' + url.split('/')[-2]\n",
    "url = 'https://drive.google.com/file/d/1Eg8Lffm49bc-bGFkv_4ddrQw8U8WE6P4/view?usp=sharing'\n",
    "url2021 = 'https://drive.google.com/uc?id=' + url.split('/')[-2]\n",
    "\n",
    "df20 = pd.read_csv(url2020)\n",
    "df20.info()\n",
    "\n",
    "df21 = pd.read_csv(url2021)\n",
    "df21.info()\n",
    "\n"
   ]
  },
  {
   "cell_type": "markdown",
   "id": "ee3e022e",
   "metadata": {},
   "source": [
    "Aşağıda 2020-2021  yılındaki mobility datasını aylara göre kümelere böldük."
   ]
  },
  {
   "cell_type": "code",
   "execution_count": 2,
   "id": "120e38a1",
   "metadata": {},
   "outputs": [],
   "source": [
    "df20.index = pd.to_datetime(df20['date'],format='%Y-%m-%d')\n",
    "mean_df20=df20.groupby([df20.index.month]).mean()\n",
    "df21.index = pd.to_datetime(df21['date'],format='%Y-%m-%d')\n",
    "mean_df21=df21.groupby([df21.index.month]).mean()"
   ]
  },
  {
   "cell_type": "markdown",
   "id": "8e2b038a",
   "metadata": {},
   "source": [
    "Aşağıda 2020-2021 yıllarındaki Investing.com tarafından sağlanan Dolar/TL kuru datası bulunmaktadır."
   ]
  },
  {
   "cell_type": "code",
   "execution_count": 3,
   "id": "668d31fe",
   "metadata": {},
   "outputs": [
    {
     "name": "stdout",
     "output_type": "stream",
     "text": [
      "<class 'pandas.core.frame.DataFrame'>\n",
      "RangeIndex: 12 entries, 0 to 11\n",
      "Data columns (total 6 columns):\n",
      " #   Column  Non-Null Count  Dtype \n",
      "---  ------  --------------  ----- \n",
      " 0   Tarih   12 non-null     object\n",
      " 1   Şimdi   12 non-null     object\n",
      " 2   Açılış  12 non-null     object\n",
      " 3   Yüksek  12 non-null     object\n",
      " 4   Düşük   12 non-null     object\n",
      " 5   Fark %  12 non-null     object\n",
      "dtypes: object(6)\n",
      "memory usage: 704.0+ bytes\n",
      "<class 'pandas.core.frame.DataFrame'>\n",
      "RangeIndex: 12 entries, 0 to 11\n",
      "Data columns (total 6 columns):\n",
      " #   Column  Non-Null Count  Dtype \n",
      "---  ------  --------------  ----- \n",
      " 0   Tarih   12 non-null     object\n",
      " 1   Şimdi   12 non-null     object\n",
      " 2   Açılış  12 non-null     object\n",
      " 3   Yüksek  12 non-null     object\n",
      " 4   Düşük   12 non-null     object\n",
      " 5   Fark %  12 non-null     object\n",
      "dtypes: object(6)\n",
      "memory usage: 704.0+ bytes\n"
     ]
    }
   ],
   "source": [
    "import pandas as pd\n",
    "\n",
    "\n",
    "#https://www.investing.com\n",
    "index_url = 'https://drive.google.com/file/d/1kPozR-aYiNSg4CsfmPCgkHuH7GVsV_c5/view?usp=sharing'\n",
    "index_url2020 = 'https://drive.google.com/uc?id=' + index_url.split('/')[-2]\n",
    "index_url = 'https://drive.google.com/file/d/1mEUy-lRJjGVvxIiof-1UmXRzSSHnPKPs/view?usp=sharing'\n",
    "index_url2021 = 'https://drive.google.com/uc?id=' + index_url.split('/')[-2]\n",
    "\n",
    "\n",
    "index_df20 = pd.read_csv(index_url2020)\n",
    "index_df20.info()\n",
    "\n",
    "index_df21 = pd.read_csv(index_url2021)\n",
    "index_df21.info()\n",
    "                                                                                                                    \n"
   ]
  },
  {
   "cell_type": "markdown",
   "id": "4edaef33",
   "metadata": {},
   "source": [
    "Aşağıda 2020 yılı mobility datasındaki market ve eczaneye gidişlerin aya göre değişiminin grafiği bulunmaktadır."
   ]
  },
  {
   "cell_type": "code",
   "execution_count": 12,
   "id": "cbeea9e2",
   "metadata": {},
   "outputs": [
    {
     "data": {
      "text/plain": [
       "<matplotlib.lines.Line2D at 0x7fcda105bb80>"
      ]
     },
     "execution_count": 12,
     "metadata": {},
     "output_type": "execute_result"
    },
    {
     "data": {
      "image/png": "[encoded data removed]",
      "text/plain": [
       "<Figure size 648x648 with 1 Axes>"
      ]
     },
     "metadata": {
      "needs_background": "light"
     },
     "output_type": "display_data"
    }
   ],
   "source": [
    "import pandas as pd\n",
    "import matplotlib.pyplot as plt\n",
    "import numpy as np\n",
    "from matplotlib.pyplot import figure\n",
    "\n",
    "\n",
    "plt.xticks( np.arange(13) )\n",
    "mean_df20[\"grocery_and_pharmacy_percent_change_from_baseline\"].plot(figsize=(9, 9),y=df20[\"grocery_and_pharmacy_percent_change_from_baseline\"],legend=True)\n",
    "mean_df21[\"grocery_and_pharmacy_percent_change_from_baseline\"].plot(figsize=(9, 9),y=df21[\"grocery_and_pharmacy_percent_change_from_baseline\"],legend=True)\n",
    "plt.axhline(0, color='blue')"
   ]
  },
  {
   "cell_type": "code",
   "execution_count": null,
   "id": "b80cc69d",
   "metadata": {},
   "outputs": [],
   "source": []
  }
 ],
 "metadata": {
  "kernelspec": {
   "display_name": "Python 3",
   "language": "python",
   "name": "python3"
  },
  "language_info": {
   "codemirror_mode": {
    "name": "ipython",
    "version": 3
   },
   "file_extension": ".py",
   "mimetype": "text/x-python",
   "name": "python",
   "nbconvert_exporter": "python",
   "pygments_lexer": "ipython3",
   "version": "3.8.8"
  }
 },
 "nbformat": 4,
 "nbformat_minor": 5
}
